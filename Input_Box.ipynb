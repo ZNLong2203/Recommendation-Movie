{
 "cells": [
  {
   "cell_type": "code",
   "id": "initial_id",
   "metadata": {
    "collapsed": true,
    "ExecuteTime": {
     "end_time": "2024-05-18T14:57:08.970595Z",
     "start_time": "2024-05-18T14:57:02.065176Z"
    }
   },
   "source": [
    "import re\n",
    "import pandas as pd\n",
    "import numpy as np\n",
    "import ipywidgets as widgets\n",
    "from IPython.display import display\n",
    "from sklearn.feature_extraction.text import TfidfVectorizer\n",
    "from sklearn.metrics.pairwise import linear_kernel\n",
    "\n",
    "movies = pd.read_csv(\"data/movies.csv\")\n",
    "ratings = pd.read_csv(\"data/ratings.csv\")\n",
    "\n",
    "def clean_title(title):\n",
    "    return re.sub(r'\\(\\d{4}\\)', '', title).strip()\n",
    "\n",
    "movies[\"title\"] = movies[\"title\"].apply(clean_title)\n",
    "movies[\"combine\"] = movies[\"title\"] + \" \" + movies[\"genres\"]\n",
    "vectorizer = TfidfVectorizer(ngram_range=(1, 2))\n",
    "tfidf = vectorizer.fit_transform(movies[\"combine\"])\n",
    "\n",
    "def recommend_movie(title):\n",
    "    title = clean_title(title)\n",
    "    query_vector = vectorizer.transform([title])\n",
    "    cosine_sim = linear_kernel(query_vector, tfidf)\n",
    "    similarity = cosine_sim.flatten()\n",
    "    similarity_df = pd.DataFrame(similarity, index=movies[\"title\"])\n",
    "    similarity_df.columns = [\"similarity\"]\n",
    "    \n",
    "    movie_id = movies[movies[\"title\"] == title][\"movieId\"].values[0]\n",
    "    similar_users = ratings[(ratings[\"movieId\"] == movie_id) & (ratings[\"rating\"] >= 4)][\"userId\"].unique()\n",
    "    similar_users_rec = ratings[(ratings[\"userId\"].isin(similar_users)) & (ratings[\"rating\"] >= 4)]\n",
    "    similar_users_rec = similar_users_rec[\"movieId\"].value_counts() / len(similar_users)\n",
    "    similar_users_rec = similar_users_rec[similar_users_rec > 0.2]\n",
    "\n",
    "    all_users = ratings[(ratings[\"movieId\"].isin(similar_users_rec.index)) & (ratings[\"rating\"] >= 4)]\n",
    "    all_users_rec = all_users[\"movieId\"].value_counts() / len(all_users[\"userId\"].unique())\n",
    "\n",
    "    rec_percentage = pd.concat([similar_users_rec, all_users_rec], axis=1)\n",
    "    rec_percentage.columns = [\"similar_users\", \"all_users\"]\n",
    "    rec_percentage = rec_percentage.fillna(0)\n",
    "    rec_percentage[\"suggest\"] = (rec_percentage[\"similar_users\"] / rec_percentage[\"all_users\"]) / 10\n",
    "    rec = rec_percentage.sort_values(\"suggest\", ascending=False)\n",
    "    rec = pd.DataFrame(rec.merge(movies, left_index=True, right_on=\"movieId\"))\n",
    "\n",
    "    merged_df = pd.merge(similarity_df, rec, on=\"title\", how=\"left\")\n",
    "    merged_df.drop(columns=[\"movieId\", \"genres\", \"combine\", \"similar_users\", \"all_users\"], inplace=True)\n",
    "    merged_df = merged_df.fillna(0)\n",
    "    merged_df[\"total_score\"] = (merged_df[\"similarity\"] + merged_df[\"suggest\"] * 2) / 3\n",
    "    merged_df = merged_df.sort_values(\"total_score\", ascending=False)\n",
    "    merged_df = merged_df.drop_duplicates(subset=\"title\")\n",
    "    \n",
    "    return merged_df"
   ],
   "outputs": [],
   "execution_count": 13
  },
  {
   "metadata": {},
   "cell_type": "markdown",
   "source": "### Type the movie title you want to get recommendations for, must exactly right title so it can recommend other movie for you ( e.g. \"Toy Story\" )",
   "id": "7ba651d6358f3078"
  },
  {
   "metadata": {
    "ExecuteTime": {
     "end_time": "2024-05-18T14:57:08.984063Z",
     "start_time": "2024-05-18T14:57:08.971600Z"
    }
   },
   "cell_type": "code",
   "source": [
    "movie_name_input = widgets.Text(\n",
    "    value='',\n",
    "    description='Movie Title:',\n",
    "    disabled=False\n",
    ")\n",
    "recommendation_list = widgets.Output()\n",
    "\n",
    "def on_type(data):\n",
    "    with recommendation_list:\n",
    "        recommendation_list.clear_output()\n",
    "        title = data[\"new\"]\n",
    "        display(recommend_movie(title))\n",
    "\n",
    "movie_name_input.observe(on_type, names='value')\n",
    "display(movie_name_input, recommendation_list)"
   ],
   "id": "a7802831e93bb6ac",
   "outputs": [
    {
     "data": {
      "text/plain": [
       "Text(value='', description='Movie Title:')"
      ],
      "application/vnd.jupyter.widget-view+json": {
       "version_major": 2,
       "version_minor": 0,
       "model_id": "2f25841dac2b4be49d79f989615dbdef"
      }
     },
     "metadata": {},
     "output_type": "display_data"
    },
    {
     "data": {
      "text/plain": [
       "Output()"
      ],
      "application/vnd.jupyter.widget-view+json": {
       "version_major": 2,
       "version_minor": 0,
       "model_id": "9f48d3fc941f433ab904bffad66e2f89"
      }
     },
     "metadata": {},
     "output_type": "display_data"
    }
   ],
   "execution_count": 14
  }
 ],
 "metadata": {
  "kernelspec": {
   "display_name": "Python 3",
   "language": "python",
   "name": "python3"
  },
  "language_info": {
   "codemirror_mode": {
    "name": "ipython",
    "version": 2
   },
   "file_extension": ".py",
   "mimetype": "text/x-python",
   "name": "python",
   "nbconvert_exporter": "python",
   "pygments_lexer": "ipython2",
   "version": "2.7.6"
  }
 },
 "nbformat": 4,
 "nbformat_minor": 5
}
