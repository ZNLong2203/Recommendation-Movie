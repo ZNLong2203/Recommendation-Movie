{
 "cells": [
  {
   "metadata": {},
   "cell_type": "markdown",
   "source": "# Recommendation Movie",
   "id": "7f5f3a58bc7b8b37"
  },
  {
   "metadata": {},
   "cell_type": "markdown",
   "source": "## 1. Matrix Factorization, Content-based filtering",
   "id": "98ff44def035f79"
  },
  {
   "cell_type": "code",
   "id": "initial_id",
   "metadata": {
    "collapsed": true,
    "ExecuteTime": {
     "end_time": "2024-05-18T09:17:04.074480Z",
     "start_time": "2024-05-18T09:17:04.015410Z"
    }
   },
   "source": [
    "import re\n",
    "import pandas as pd\n",
    "import numpy as np\n",
    "import ipywidgets as widgets\n",
    "from IPython.display import display\n",
    "from sklearn.feature_extraction.text import TfidfVectorizer\n",
    "from sklearn.metrics.pairwise import linear_kernel\n",
    "\n",
    "movies = pd.read_csv('data/movies.csv')\n",
    "movies.head()"
   ],
   "outputs": [
    {
     "data": {
      "text/plain": [
       "   movieId                               title  \\\n",
       "0        1                    Toy Story (1995)   \n",
       "1        2                      Jumanji (1995)   \n",
       "2        3             Grumpier Old Men (1995)   \n",
       "3        4            Waiting to Exhale (1995)   \n",
       "4        5  Father of the Bride Part II (1995)   \n",
       "\n",
       "                                        genres  \n",
       "0  Adventure|Animation|Children|Comedy|Fantasy  \n",
       "1                   Adventure|Children|Fantasy  \n",
       "2                               Comedy|Romance  \n",
       "3                         Comedy|Drama|Romance  \n",
       "4                                       Comedy  "
      ],
      "text/html": [
       "<div>\n",
       "<style scoped>\n",
       "    .dataframe tbody tr th:only-of-type {\n",
       "        vertical-align: middle;\n",
       "    }\n",
       "\n",
       "    .dataframe tbody tr th {\n",
       "        vertical-align: top;\n",
       "    }\n",
       "\n",
       "    .dataframe thead th {\n",
       "        text-align: right;\n",
       "    }\n",
       "</style>\n",
       "<table border=\"1\" class=\"dataframe\">\n",
       "  <thead>\n",
       "    <tr style=\"text-align: right;\">\n",
       "      <th></th>\n",
       "      <th>movieId</th>\n",
       "      <th>title</th>\n",
       "      <th>genres</th>\n",
       "    </tr>\n",
       "  </thead>\n",
       "  <tbody>\n",
       "    <tr>\n",
       "      <th>0</th>\n",
       "      <td>1</td>\n",
       "      <td>Toy Story (1995)</td>\n",
       "      <td>Adventure|Animation|Children|Comedy|Fantasy</td>\n",
       "    </tr>\n",
       "    <tr>\n",
       "      <th>1</th>\n",
       "      <td>2</td>\n",
       "      <td>Jumanji (1995)</td>\n",
       "      <td>Adventure|Children|Fantasy</td>\n",
       "    </tr>\n",
       "    <tr>\n",
       "      <th>2</th>\n",
       "      <td>3</td>\n",
       "      <td>Grumpier Old Men (1995)</td>\n",
       "      <td>Comedy|Romance</td>\n",
       "    </tr>\n",
       "    <tr>\n",
       "      <th>3</th>\n",
       "      <td>4</td>\n",
       "      <td>Waiting to Exhale (1995)</td>\n",
       "      <td>Comedy|Drama|Romance</td>\n",
       "    </tr>\n",
       "    <tr>\n",
       "      <th>4</th>\n",
       "      <td>5</td>\n",
       "      <td>Father of the Bride Part II (1995)</td>\n",
       "      <td>Comedy</td>\n",
       "    </tr>\n",
       "  </tbody>\n",
       "</table>\n",
       "</div>"
      ]
     },
     "execution_count": 39,
     "metadata": {},
     "output_type": "execute_result"
    }
   ],
   "execution_count": 39
  },
  {
   "metadata": {},
   "cell_type": "markdown",
   "source": "",
   "id": "6cedc9a33175ca72"
  },
  {
   "metadata": {
    "ExecuteTime": {
     "end_time": "2024-05-18T09:17:04.153520Z",
     "start_time": "2024-05-18T09:17:04.075485Z"
    }
   },
   "cell_type": "code",
   "source": [
    "def clean_title(title):\n",
    "    return re.sub(r'\\(\\d{4}\\)', '', title).strip()\n",
    "movies[\"title\"] = movies[\"title\"].apply(clean_title)\n",
    "movies.head()"
   ],
   "id": "7e4681880f876937",
   "outputs": [
    {
     "data": {
      "text/plain": [
       "   movieId                        title  \\\n",
       "0        1                    Toy Story   \n",
       "1        2                      Jumanji   \n",
       "2        3             Grumpier Old Men   \n",
       "3        4            Waiting to Exhale   \n",
       "4        5  Father of the Bride Part II   \n",
       "\n",
       "                                        genres  \n",
       "0  Adventure|Animation|Children|Comedy|Fantasy  \n",
       "1                   Adventure|Children|Fantasy  \n",
       "2                               Comedy|Romance  \n",
       "3                         Comedy|Drama|Romance  \n",
       "4                                       Comedy  "
      ],
      "text/html": [
       "<div>\n",
       "<style scoped>\n",
       "    .dataframe tbody tr th:only-of-type {\n",
       "        vertical-align: middle;\n",
       "    }\n",
       "\n",
       "    .dataframe tbody tr th {\n",
       "        vertical-align: top;\n",
       "    }\n",
       "\n",
       "    .dataframe thead th {\n",
       "        text-align: right;\n",
       "    }\n",
       "</style>\n",
       "<table border=\"1\" class=\"dataframe\">\n",
       "  <thead>\n",
       "    <tr style=\"text-align: right;\">\n",
       "      <th></th>\n",
       "      <th>movieId</th>\n",
       "      <th>title</th>\n",
       "      <th>genres</th>\n",
       "    </tr>\n",
       "  </thead>\n",
       "  <tbody>\n",
       "    <tr>\n",
       "      <th>0</th>\n",
       "      <td>1</td>\n",
       "      <td>Toy Story</td>\n",
       "      <td>Adventure|Animation|Children|Comedy|Fantasy</td>\n",
       "    </tr>\n",
       "    <tr>\n",
       "      <th>1</th>\n",
       "      <td>2</td>\n",
       "      <td>Jumanji</td>\n",
       "      <td>Adventure|Children|Fantasy</td>\n",
       "    </tr>\n",
       "    <tr>\n",
       "      <th>2</th>\n",
       "      <td>3</td>\n",
       "      <td>Grumpier Old Men</td>\n",
       "      <td>Comedy|Romance</td>\n",
       "    </tr>\n",
       "    <tr>\n",
       "      <th>3</th>\n",
       "      <td>4</td>\n",
       "      <td>Waiting to Exhale</td>\n",
       "      <td>Comedy|Drama|Romance</td>\n",
       "    </tr>\n",
       "    <tr>\n",
       "      <th>4</th>\n",
       "      <td>5</td>\n",
       "      <td>Father of the Bride Part II</td>\n",
       "      <td>Comedy</td>\n",
       "    </tr>\n",
       "  </tbody>\n",
       "</table>\n",
       "</div>"
      ]
     },
     "execution_count": 40,
     "metadata": {},
     "output_type": "execute_result"
    }
   ],
   "execution_count": 40
  },
  {
   "metadata": {
    "ExecuteTime": {
     "end_time": "2024-05-18T09:17:04.186828Z",
     "start_time": "2024-05-18T09:17:04.154524Z"
    }
   },
   "cell_type": "code",
   "source": [
    "movies[\"genres\"] = movies[\"genres\"].apply(lambda x: x.replace(\"|\", \" \"))\n",
    "movies[\"combine\"] = movies[\"title\"] + \" \" + movies[\"genres\"]\n",
    "movies.head()"
   ],
   "id": "4e3760444485a52e",
   "outputs": [
    {
     "data": {
      "text/plain": [
       "   movieId                        title  \\\n",
       "0        1                    Toy Story   \n",
       "1        2                      Jumanji   \n",
       "2        3             Grumpier Old Men   \n",
       "3        4            Waiting to Exhale   \n",
       "4        5  Father of the Bride Part II   \n",
       "\n",
       "                                        genres  \\\n",
       "0  Adventure Animation Children Comedy Fantasy   \n",
       "1                   Adventure Children Fantasy   \n",
       "2                               Comedy Romance   \n",
       "3                         Comedy Drama Romance   \n",
       "4                                       Comedy   \n",
       "\n",
       "                                             combine  \n",
       "0  Toy Story Adventure Animation Children Comedy ...  \n",
       "1                 Jumanji Adventure Children Fantasy  \n",
       "2                    Grumpier Old Men Comedy Romance  \n",
       "3             Waiting to Exhale Comedy Drama Romance  \n",
       "4                 Father of the Bride Part II Comedy  "
      ],
      "text/html": [
       "<div>\n",
       "<style scoped>\n",
       "    .dataframe tbody tr th:only-of-type {\n",
       "        vertical-align: middle;\n",
       "    }\n",
       "\n",
       "    .dataframe tbody tr th {\n",
       "        vertical-align: top;\n",
       "    }\n",
       "\n",
       "    .dataframe thead th {\n",
       "        text-align: right;\n",
       "    }\n",
       "</style>\n",
       "<table border=\"1\" class=\"dataframe\">\n",
       "  <thead>\n",
       "    <tr style=\"text-align: right;\">\n",
       "      <th></th>\n",
       "      <th>movieId</th>\n",
       "      <th>title</th>\n",
       "      <th>genres</th>\n",
       "      <th>combine</th>\n",
       "    </tr>\n",
       "  </thead>\n",
       "  <tbody>\n",
       "    <tr>\n",
       "      <th>0</th>\n",
       "      <td>1</td>\n",
       "      <td>Toy Story</td>\n",
       "      <td>Adventure Animation Children Comedy Fantasy</td>\n",
       "      <td>Toy Story Adventure Animation Children Comedy ...</td>\n",
       "    </tr>\n",
       "    <tr>\n",
       "      <th>1</th>\n",
       "      <td>2</td>\n",
       "      <td>Jumanji</td>\n",
       "      <td>Adventure Children Fantasy</td>\n",
       "      <td>Jumanji Adventure Children Fantasy</td>\n",
       "    </tr>\n",
       "    <tr>\n",
       "      <th>2</th>\n",
       "      <td>3</td>\n",
       "      <td>Grumpier Old Men</td>\n",
       "      <td>Comedy Romance</td>\n",
       "      <td>Grumpier Old Men Comedy Romance</td>\n",
       "    </tr>\n",
       "    <tr>\n",
       "      <th>3</th>\n",
       "      <td>4</td>\n",
       "      <td>Waiting to Exhale</td>\n",
       "      <td>Comedy Drama Romance</td>\n",
       "      <td>Waiting to Exhale Comedy Drama Romance</td>\n",
       "    </tr>\n",
       "    <tr>\n",
       "      <th>4</th>\n",
       "      <td>5</td>\n",
       "      <td>Father of the Bride Part II</td>\n",
       "      <td>Comedy</td>\n",
       "      <td>Father of the Bride Part II Comedy</td>\n",
       "    </tr>\n",
       "  </tbody>\n",
       "</table>\n",
       "</div>"
      ]
     },
     "execution_count": 41,
     "metadata": {},
     "output_type": "execute_result"
    }
   ],
   "execution_count": 41
  },
  {
   "metadata": {
    "ExecuteTime": {
     "end_time": "2024-05-18T09:17:05.222245Z",
     "start_time": "2024-05-18T09:17:04.187833Z"
    }
   },
   "cell_type": "code",
   "source": [
    "vectorizer = TfidfVectorizer(ngram_range=(1, 2))\n",
    "tfidf = vectorizer.fit_transform(movies[\"combine\"])\n",
    "tfidf.shape"
   ],
   "id": "67331f1ff4bd8940",
   "outputs": [
    {
     "data": {
      "text/plain": [
       "(62423, 154860)"
      ]
     },
     "execution_count": 42,
     "metadata": {},
     "output_type": "execute_result"
    }
   ],
   "execution_count": 42
  },
  {
   "metadata": {
    "ExecuteTime": {
     "end_time": "2024-05-18T09:17:05.230583Z",
     "start_time": "2024-05-18T09:17:05.224256Z"
    }
   },
   "cell_type": "code",
   "source": [
    "title = \"Old Men\"\n",
    "title = clean_title(title)\n",
    "query_vector = vectorizer.transform([title])\n",
    "query_vector.shape"
   ],
   "id": "faac43775451dee7",
   "outputs": [
    {
     "data": {
      "text/plain": [
       "(1, 154860)"
      ]
     },
     "execution_count": 43,
     "metadata": {},
     "output_type": "execute_result"
    }
   ],
   "execution_count": 43
  },
  {
   "metadata": {
    "ExecuteTime": {
     "end_time": "2024-05-18T09:17:05.249989Z",
     "start_time": "2024-05-18T09:17:05.231596Z"
    }
   },
   "cell_type": "code",
   "source": [
    "cosine_sim = linear_kernel(query_vector, tfidf)\n",
    "cosine_sim = cosine_sim.flatten()\n",
    "\n",
    "related_movie_indices = cosine_sim.argsort()[:-6:-1]\n",
    "result = movies.iloc[related_movie_indices]\n",
    "result"
   ],
   "id": "8949d34455efb7de",
   "outputs": [
    {
     "data": {
      "text/plain": [
       "       movieId                       title          genres  \\\n",
       "3354      3450              Grumpy Old Men          Comedy   \n",
       "32828   141820            Old Men: Robbers          Comedy   \n",
       "2            3            Grumpier Old Men  Comedy Romance   \n",
       "11932    55820      No Country for Old Men     Crime Drama   \n",
       "47016   173637  Seven Old Men and One Girl          Comedy   \n",
       "\n",
       "                                  combine  \n",
       "3354                Grumpy Old Men Comedy  \n",
       "32828             Old Men: Robbers Comedy  \n",
       "2         Grumpier Old Men Comedy Romance  \n",
       "11932  No Country for Old Men Crime Drama  \n",
       "47016   Seven Old Men and One Girl Comedy  "
      ],
      "text/html": [
       "<div>\n",
       "<style scoped>\n",
       "    .dataframe tbody tr th:only-of-type {\n",
       "        vertical-align: middle;\n",
       "    }\n",
       "\n",
       "    .dataframe tbody tr th {\n",
       "        vertical-align: top;\n",
       "    }\n",
       "\n",
       "    .dataframe thead th {\n",
       "        text-align: right;\n",
       "    }\n",
       "</style>\n",
       "<table border=\"1\" class=\"dataframe\">\n",
       "  <thead>\n",
       "    <tr style=\"text-align: right;\">\n",
       "      <th></th>\n",
       "      <th>movieId</th>\n",
       "      <th>title</th>\n",
       "      <th>genres</th>\n",
       "      <th>combine</th>\n",
       "    </tr>\n",
       "  </thead>\n",
       "  <tbody>\n",
       "    <tr>\n",
       "      <th>3354</th>\n",
       "      <td>3450</td>\n",
       "      <td>Grumpy Old Men</td>\n",
       "      <td>Comedy</td>\n",
       "      <td>Grumpy Old Men Comedy</td>\n",
       "    </tr>\n",
       "    <tr>\n",
       "      <th>32828</th>\n",
       "      <td>141820</td>\n",
       "      <td>Old Men: Robbers</td>\n",
       "      <td>Comedy</td>\n",
       "      <td>Old Men: Robbers Comedy</td>\n",
       "    </tr>\n",
       "    <tr>\n",
       "      <th>2</th>\n",
       "      <td>3</td>\n",
       "      <td>Grumpier Old Men</td>\n",
       "      <td>Comedy Romance</td>\n",
       "      <td>Grumpier Old Men Comedy Romance</td>\n",
       "    </tr>\n",
       "    <tr>\n",
       "      <th>11932</th>\n",
       "      <td>55820</td>\n",
       "      <td>No Country for Old Men</td>\n",
       "      <td>Crime Drama</td>\n",
       "      <td>No Country for Old Men Crime Drama</td>\n",
       "    </tr>\n",
       "    <tr>\n",
       "      <th>47016</th>\n",
       "      <td>173637</td>\n",
       "      <td>Seven Old Men and One Girl</td>\n",
       "      <td>Comedy</td>\n",
       "      <td>Seven Old Men and One Girl Comedy</td>\n",
       "    </tr>\n",
       "  </tbody>\n",
       "</table>\n",
       "</div>"
      ]
     },
     "execution_count": 44,
     "metadata": {},
     "output_type": "execute_result"
    }
   ],
   "execution_count": 44
  },
  {
   "metadata": {},
   "cell_type": "markdown",
   "source": "## 2. Collaborative filtering based on user ratings",
   "id": "304c75b0e5e3dc47"
  },
  {
   "metadata": {
    "ExecuteTime": {
     "end_time": "2024-05-18T09:17:11.118211Z",
     "start_time": "2024-05-18T09:17:05.251001Z"
    }
   },
   "cell_type": "code",
   "source": [
    "ratings = pd.read_csv(\"data/ratings.csv\")\n",
    "ratings.head()"
   ],
   "id": "70f7dc69e704a53",
   "outputs": [
    {
     "data": {
      "text/plain": [
       "   userId  movieId  rating   timestamp\n",
       "0       1      296     5.0  1147880044\n",
       "1       1      306     3.5  1147868817\n",
       "2       1      307     5.0  1147868828\n",
       "3       1      665     5.0  1147878820\n",
       "4       1      899     3.5  1147868510"
      ],
      "text/html": [
       "<div>\n",
       "<style scoped>\n",
       "    .dataframe tbody tr th:only-of-type {\n",
       "        vertical-align: middle;\n",
       "    }\n",
       "\n",
       "    .dataframe tbody tr th {\n",
       "        vertical-align: top;\n",
       "    }\n",
       "\n",
       "    .dataframe thead th {\n",
       "        text-align: right;\n",
       "    }\n",
       "</style>\n",
       "<table border=\"1\" class=\"dataframe\">\n",
       "  <thead>\n",
       "    <tr style=\"text-align: right;\">\n",
       "      <th></th>\n",
       "      <th>userId</th>\n",
       "      <th>movieId</th>\n",
       "      <th>rating</th>\n",
       "      <th>timestamp</th>\n",
       "    </tr>\n",
       "  </thead>\n",
       "  <tbody>\n",
       "    <tr>\n",
       "      <th>0</th>\n",
       "      <td>1</td>\n",
       "      <td>296</td>\n",
       "      <td>5.0</td>\n",
       "      <td>1147880044</td>\n",
       "    </tr>\n",
       "    <tr>\n",
       "      <th>1</th>\n",
       "      <td>1</td>\n",
       "      <td>306</td>\n",
       "      <td>3.5</td>\n",
       "      <td>1147868817</td>\n",
       "    </tr>\n",
       "    <tr>\n",
       "      <th>2</th>\n",
       "      <td>1</td>\n",
       "      <td>307</td>\n",
       "      <td>5.0</td>\n",
       "      <td>1147868828</td>\n",
       "    </tr>\n",
       "    <tr>\n",
       "      <th>3</th>\n",
       "      <td>1</td>\n",
       "      <td>665</td>\n",
       "      <td>5.0</td>\n",
       "      <td>1147878820</td>\n",
       "    </tr>\n",
       "    <tr>\n",
       "      <th>4</th>\n",
       "      <td>1</td>\n",
       "      <td>899</td>\n",
       "      <td>3.5</td>\n",
       "      <td>1147868510</td>\n",
       "    </tr>\n",
       "  </tbody>\n",
       "</table>\n",
       "</div>"
      ]
     },
     "execution_count": 45,
     "metadata": {},
     "output_type": "execute_result"
    }
   ],
   "execution_count": 45
  },
  {
   "metadata": {
    "ExecuteTime": {
     "end_time": "2024-05-18T09:17:11.124361Z",
     "start_time": "2024-05-18T09:17:11.119232Z"
    }
   },
   "cell_type": "code",
   "source": "ratings.dtypes",
   "id": "3c26a86b1285dc83",
   "outputs": [
    {
     "data": {
      "text/plain": [
       "userId         int64\n",
       "movieId        int64\n",
       "rating       float64\n",
       "timestamp      int64\n",
       "dtype: object"
      ]
     },
     "execution_count": 46,
     "metadata": {},
     "output_type": "execute_result"
    }
   ],
   "execution_count": 46
  },
  {
   "metadata": {},
   "cell_type": "markdown",
   "source": "### Find users who have rates above 4 for the movie",
   "id": "9967270df5b67e55"
  },
  {
   "metadata": {
    "ExecuteTime": {
     "end_time": "2024-05-18T09:17:11.268608Z",
     "start_time": "2024-05-18T09:17:11.125365Z"
    }
   },
   "cell_type": "code",
   "source": [
    "movie_id = 1\n",
    "similar_users = ratings[(ratings[\"movieId\"] == movie_id) & (ratings[\"rating\"] >= 4)][\"userId\"].unique()\n",
    "similar_users"
   ],
   "id": "8574f76a4597c1af",
   "outputs": [
    {
     "data": {
      "text/plain": [
       "array([     3,      5,      8, ..., 162530, 162533, 162534], dtype=int64)"
      ]
     },
     "execution_count": 47,
     "metadata": {},
     "output_type": "execute_result"
    }
   ],
   "execution_count": 47
  },
  {
   "metadata": {},
   "cell_type": "markdown",
   "source": "### Find other movies that similar users have rated above 4",
   "id": "60648ea26eb32fa9"
  },
  {
   "metadata": {
    "ExecuteTime": {
     "end_time": "2024-05-18T09:17:11.607292Z",
     "start_time": "2024-05-18T09:17:11.269614Z"
    }
   },
   "cell_type": "code",
   "source": [
    "similar_users_rec = ratings[(ratings[\"userId\"].isin(similar_users)) & (ratings[\"rating\"] >= 4)]\n",
    "similar_users_rec"
   ],
   "id": "528943c847f8cbb4",
   "outputs": [
    {
     "data": {
      "text/plain": [
       "          userId  movieId  rating   timestamp\n",
       "254            3        1     4.0  1439472215\n",
       "255            3       29     4.5  1484754967\n",
       "256            3       32     4.5  1439474635\n",
       "257            3       50     5.0  1439474391\n",
       "258            3      111     4.0  1484753849\n",
       "...          ...      ...     ...         ...\n",
       "24999332  162534   166643     4.0  1526891765\n",
       "24999342  162534   171763     4.0  1526717390\n",
       "24999348  162534   177593     5.0  1526666314\n",
       "24999351  162534   177765     4.0  1526666311\n",
       "24999378  162534   198609     4.0  1549870359\n",
       "\n",
       "[5101989 rows x 4 columns]"
      ],
      "text/html": [
       "<div>\n",
       "<style scoped>\n",
       "    .dataframe tbody tr th:only-of-type {\n",
       "        vertical-align: middle;\n",
       "    }\n",
       "\n",
       "    .dataframe tbody tr th {\n",
       "        vertical-align: top;\n",
       "    }\n",
       "\n",
       "    .dataframe thead th {\n",
       "        text-align: right;\n",
       "    }\n",
       "</style>\n",
       "<table border=\"1\" class=\"dataframe\">\n",
       "  <thead>\n",
       "    <tr style=\"text-align: right;\">\n",
       "      <th></th>\n",
       "      <th>userId</th>\n",
       "      <th>movieId</th>\n",
       "      <th>rating</th>\n",
       "      <th>timestamp</th>\n",
       "    </tr>\n",
       "  </thead>\n",
       "  <tbody>\n",
       "    <tr>\n",
       "      <th>254</th>\n",
       "      <td>3</td>\n",
       "      <td>1</td>\n",
       "      <td>4.0</td>\n",
       "      <td>1439472215</td>\n",
       "    </tr>\n",
       "    <tr>\n",
       "      <th>255</th>\n",
       "      <td>3</td>\n",
       "      <td>29</td>\n",
       "      <td>4.5</td>\n",
       "      <td>1484754967</td>\n",
       "    </tr>\n",
       "    <tr>\n",
       "      <th>256</th>\n",
       "      <td>3</td>\n",
       "      <td>32</td>\n",
       "      <td>4.5</td>\n",
       "      <td>1439474635</td>\n",
       "    </tr>\n",
       "    <tr>\n",
       "      <th>257</th>\n",
       "      <td>3</td>\n",
       "      <td>50</td>\n",
       "      <td>5.0</td>\n",
       "      <td>1439474391</td>\n",
       "    </tr>\n",
       "    <tr>\n",
       "      <th>258</th>\n",
       "      <td>3</td>\n",
       "      <td>111</td>\n",
       "      <td>4.0</td>\n",
       "      <td>1484753849</td>\n",
       "    </tr>\n",
       "    <tr>\n",
       "      <th>...</th>\n",
       "      <td>...</td>\n",
       "      <td>...</td>\n",
       "      <td>...</td>\n",
       "      <td>...</td>\n",
       "    </tr>\n",
       "    <tr>\n",
       "      <th>24999332</th>\n",
       "      <td>162534</td>\n",
       "      <td>166643</td>\n",
       "      <td>4.0</td>\n",
       "      <td>1526891765</td>\n",
       "    </tr>\n",
       "    <tr>\n",
       "      <th>24999342</th>\n",
       "      <td>162534</td>\n",
       "      <td>171763</td>\n",
       "      <td>4.0</td>\n",
       "      <td>1526717390</td>\n",
       "    </tr>\n",
       "    <tr>\n",
       "      <th>24999348</th>\n",
       "      <td>162534</td>\n",
       "      <td>177593</td>\n",
       "      <td>5.0</td>\n",
       "      <td>1526666314</td>\n",
       "    </tr>\n",
       "    <tr>\n",
       "      <th>24999351</th>\n",
       "      <td>162534</td>\n",
       "      <td>177765</td>\n",
       "      <td>4.0</td>\n",
       "      <td>1526666311</td>\n",
       "    </tr>\n",
       "    <tr>\n",
       "      <th>24999378</th>\n",
       "      <td>162534</td>\n",
       "      <td>198609</td>\n",
       "      <td>4.0</td>\n",
       "      <td>1549870359</td>\n",
       "    </tr>\n",
       "  </tbody>\n",
       "</table>\n",
       "<p>5101989 rows × 4 columns</p>\n",
       "</div>"
      ]
     },
     "execution_count": 48,
     "metadata": {},
     "output_type": "execute_result"
    }
   ],
   "execution_count": 48
  },
  {
   "metadata": {},
   "cell_type": "markdown",
   "source": "### Find the percentage of ratings for each movie that similar users have rated above 4",
   "id": "4907b031851b1f6d"
  },
  {
   "metadata": {
    "ExecuteTime": {
     "end_time": "2024-05-18T09:17:11.746176Z",
     "start_time": "2024-05-18T09:17:11.609298Z"
    }
   },
   "cell_type": "code",
   "source": [
    "similar_users_rec = similar_users_rec[\"movieId\"].value_counts() / len(similar_users)\n",
    "similar_users_rec = similar_users_rec[similar_users_rec > 0.2]\n",
    "similar_users_rec"
   ],
   "id": "f52f8f2b3e6ba01d",
   "outputs": [
    {
     "data": {
      "text/plain": [
       "movieId\n",
       "1       1.000000\n",
       "318     0.549604\n",
       "260     0.531518\n",
       "356     0.517224\n",
       "296     0.495744\n",
       "          ...   \n",
       "1258    0.203055\n",
       "4963    0.201835\n",
       "4973    0.201835\n",
       "592     0.200642\n",
       "6874    0.200615\n",
       "Name: count, Length: 79, dtype: float64"
      ]
     },
     "execution_count": 49,
     "metadata": {},
     "output_type": "execute_result"
    }
   ],
   "execution_count": 49
  },
  {
   "metadata": {},
   "cell_type": "markdown",
   "source": "### Find the average rating for each movie that all users have rated above 4",
   "id": "8245bafe86266c73"
  },
  {
   "metadata": {
    "ExecuteTime": {
     "end_time": "2024-05-18T09:27:31.472428Z",
     "start_time": "2024-05-18T09:27:30.842333Z"
    }
   },
   "cell_type": "code",
   "source": [
    "all_users = ratings[(ratings[\"movieId\"].isin(similar_users_rec.index)) & (ratings[\"rating\"] >= 4)]\n",
    "all_users_rec = all_users[\"movieId\"].value_counts() / len(all_users[\"userId\"].unique())\n",
    "all_users_rec"
   ],
   "id": "842509fe3592b272",
   "outputs": [
    {
     "data": {
      "text/plain": [
       "movieId\n",
       "318      0.450106\n",
       "296      0.398414\n",
       "356      0.375811\n",
       "593      0.370028\n",
       "2571     0.355813\n",
       "260      0.332559\n",
       "527      0.310735\n",
       "2959     0.299092\n",
       "50       0.291381\n",
       "1196     0.282431\n",
       "858      0.277102\n",
       "1198     0.265152\n",
       "4993     0.265088\n",
       "110      0.263282\n",
       "2858     0.256918\n",
       "589      0.250809\n",
       "1210     0.248926\n",
       "47       0.242888\n",
       "1        0.240704\n",
       "7153     0.240481\n",
       "5952     0.240430\n",
       "608      0.232017\n",
       "480      0.224185\n",
       "457      0.221906\n",
       "2028     0.216550\n",
       "1270     0.215376\n",
       "2762     0.209905\n",
       "58559    0.205635\n",
       "4226     0.203324\n",
       "32       0.201390\n",
       "Name: count, dtype: float64"
      ]
     },
     "execution_count": 68,
     "metadata": {},
     "output_type": "execute_result"
    }
   ],
   "execution_count": 68
  },
  {
   "metadata": {
    "ExecuteTime": {
     "end_time": "2024-05-18T09:31:55.418258Z",
     "start_time": "2024-05-18T09:31:55.407653Z"
    }
   },
   "cell_type": "code",
   "source": [
    "rec_percentage = pd.concat([similar_users_rec, all_users_rec], axis = 1)\n",
    "rec_percentage.columns = [\"similar_users\", \"all_users\"]\n",
    "rec_percentage = rec_percentage.fillna(0)\n",
    "rec_percentage"
   ],
   "id": "70304859d63f58f2",
   "outputs": [
    {
     "data": {
      "text/plain": [
       "         similar_users  all_users\n",
       "movieId                          \n",
       "1             1.000000   0.240704\n",
       "318           0.549604   0.450106\n",
       "260           0.531518   0.332559\n",
       "356           0.517224   0.375811\n",
       "296           0.495744   0.398414\n",
       "...                ...        ...\n",
       "1258          0.203055   0.000000\n",
       "4963          0.201835   0.000000\n",
       "4973          0.201835   0.000000\n",
       "592           0.200642   0.000000\n",
       "6874          0.200615   0.000000\n",
       "\n",
       "[79 rows x 2 columns]"
      ],
      "text/html": [
       "<div>\n",
       "<style scoped>\n",
       "    .dataframe tbody tr th:only-of-type {\n",
       "        vertical-align: middle;\n",
       "    }\n",
       "\n",
       "    .dataframe tbody tr th {\n",
       "        vertical-align: top;\n",
       "    }\n",
       "\n",
       "    .dataframe thead th {\n",
       "        text-align: right;\n",
       "    }\n",
       "</style>\n",
       "<table border=\"1\" class=\"dataframe\">\n",
       "  <thead>\n",
       "    <tr style=\"text-align: right;\">\n",
       "      <th></th>\n",
       "      <th>similar_users</th>\n",
       "      <th>all_users</th>\n",
       "    </tr>\n",
       "    <tr>\n",
       "      <th>movieId</th>\n",
       "      <th></th>\n",
       "      <th></th>\n",
       "    </tr>\n",
       "  </thead>\n",
       "  <tbody>\n",
       "    <tr>\n",
       "      <th>1</th>\n",
       "      <td>1.000000</td>\n",
       "      <td>0.240704</td>\n",
       "    </tr>\n",
       "    <tr>\n",
       "      <th>318</th>\n",
       "      <td>0.549604</td>\n",
       "      <td>0.450106</td>\n",
       "    </tr>\n",
       "    <tr>\n",
       "      <th>260</th>\n",
       "      <td>0.531518</td>\n",
       "      <td>0.332559</td>\n",
       "    </tr>\n",
       "    <tr>\n",
       "      <th>356</th>\n",
       "      <td>0.517224</td>\n",
       "      <td>0.375811</td>\n",
       "    </tr>\n",
       "    <tr>\n",
       "      <th>296</th>\n",
       "      <td>0.495744</td>\n",
       "      <td>0.398414</td>\n",
       "    </tr>\n",
       "    <tr>\n",
       "      <th>...</th>\n",
       "      <td>...</td>\n",
       "      <td>...</td>\n",
       "    </tr>\n",
       "    <tr>\n",
       "      <th>1258</th>\n",
       "      <td>0.203055</td>\n",
       "      <td>0.000000</td>\n",
       "    </tr>\n",
       "    <tr>\n",
       "      <th>4963</th>\n",
       "      <td>0.201835</td>\n",
       "      <td>0.000000</td>\n",
       "    </tr>\n",
       "    <tr>\n",
       "      <th>4973</th>\n",
       "      <td>0.201835</td>\n",
       "      <td>0.000000</td>\n",
       "    </tr>\n",
       "    <tr>\n",
       "      <th>592</th>\n",
       "      <td>0.200642</td>\n",
       "      <td>0.000000</td>\n",
       "    </tr>\n",
       "    <tr>\n",
       "      <th>6874</th>\n",
       "      <td>0.200615</td>\n",
       "      <td>0.000000</td>\n",
       "    </tr>\n",
       "  </tbody>\n",
       "</table>\n",
       "<p>79 rows × 2 columns</p>\n",
       "</div>"
      ]
     },
     "execution_count": 69,
     "metadata": {},
     "output_type": "execute_result"
    }
   ],
   "execution_count": 69
  },
  {
   "metadata": {},
   "cell_type": "code",
   "outputs": [],
   "execution_count": null,
   "source": "",
   "id": "dd8194fcb102471e"
  }
 ],
 "metadata": {
  "kernelspec": {
   "display_name": "Python 3",
   "language": "python",
   "name": "python3"
  },
  "language_info": {
   "codemirror_mode": {
    "name": "ipython",
    "version": 2
   },
   "file_extension": ".py",
   "mimetype": "text/x-python",
   "name": "python",
   "nbconvert_exporter": "python",
   "pygments_lexer": "ipython2",
   "version": "2.7.6"
  }
 },
 "nbformat": 4,
 "nbformat_minor": 5
}
