{
 "cells": [
  {
   "metadata": {},
   "cell_type": "markdown",
   "source": "# Recommendation Movie",
   "id": "7f5f3a58bc7b8b37"
  },
  {
   "cell_type": "code",
   "id": "initial_id",
   "metadata": {
    "collapsed": true,
    "ExecuteTime": {
     "end_time": "2024-05-18T04:38:46.317638Z",
     "start_time": "2024-05-18T04:38:46.256822Z"
    }
   },
   "source": [
    "import re\n",
    "import pandas as pd\n",
    "import numpy as np\n",
    "from sklearn.feature_extraction.text import TfidfVectorizer\n",
    "from sklearn.metrics.pairwise import linear_kernel\n",
    "\n",
    "movies = pd.read_csv('data/movies.csv')\n",
    "movies.head()"
   ],
   "outputs": [
    {
     "data": {
      "text/plain": [
       "   movieId                               title  \\\n",
       "0        1                    Toy Story (1995)   \n",
       "1        2                      Jumanji (1995)   \n",
       "2        3             Grumpier Old Men (1995)   \n",
       "3        4            Waiting to Exhale (1995)   \n",
       "4        5  Father of the Bride Part II (1995)   \n",
       "\n",
       "                                        genres  \n",
       "0  Adventure|Animation|Children|Comedy|Fantasy  \n",
       "1                   Adventure|Children|Fantasy  \n",
       "2                               Comedy|Romance  \n",
       "3                         Comedy|Drama|Romance  \n",
       "4                                       Comedy  "
      ],
      "text/html": [
       "<div>\n",
       "<style scoped>\n",
       "    .dataframe tbody tr th:only-of-type {\n",
       "        vertical-align: middle;\n",
       "    }\n",
       "\n",
       "    .dataframe tbody tr th {\n",
       "        vertical-align: top;\n",
       "    }\n",
       "\n",
       "    .dataframe thead th {\n",
       "        text-align: right;\n",
       "    }\n",
       "</style>\n",
       "<table border=\"1\" class=\"dataframe\">\n",
       "  <thead>\n",
       "    <tr style=\"text-align: right;\">\n",
       "      <th></th>\n",
       "      <th>movieId</th>\n",
       "      <th>title</th>\n",
       "      <th>genres</th>\n",
       "    </tr>\n",
       "  </thead>\n",
       "  <tbody>\n",
       "    <tr>\n",
       "      <th>0</th>\n",
       "      <td>1</td>\n",
       "      <td>Toy Story (1995)</td>\n",
       "      <td>Adventure|Animation|Children|Comedy|Fantasy</td>\n",
       "    </tr>\n",
       "    <tr>\n",
       "      <th>1</th>\n",
       "      <td>2</td>\n",
       "      <td>Jumanji (1995)</td>\n",
       "      <td>Adventure|Children|Fantasy</td>\n",
       "    </tr>\n",
       "    <tr>\n",
       "      <th>2</th>\n",
       "      <td>3</td>\n",
       "      <td>Grumpier Old Men (1995)</td>\n",
       "      <td>Comedy|Romance</td>\n",
       "    </tr>\n",
       "    <tr>\n",
       "      <th>3</th>\n",
       "      <td>4</td>\n",
       "      <td>Waiting to Exhale (1995)</td>\n",
       "      <td>Comedy|Drama|Romance</td>\n",
       "    </tr>\n",
       "    <tr>\n",
       "      <th>4</th>\n",
       "      <td>5</td>\n",
       "      <td>Father of the Bride Part II (1995)</td>\n",
       "      <td>Comedy</td>\n",
       "    </tr>\n",
       "  </tbody>\n",
       "</table>\n",
       "</div>"
      ]
     },
     "execution_count": 48,
     "metadata": {},
     "output_type": "execute_result"
    }
   ],
   "execution_count": 48
  },
  {
   "metadata": {},
   "cell_type": "markdown",
   "source": "",
   "id": "6cedc9a33175ca72"
  },
  {
   "metadata": {
    "ExecuteTime": {
     "end_time": "2024-05-18T04:38:46.394004Z",
     "start_time": "2024-05-18T04:38:46.318645Z"
    }
   },
   "cell_type": "code",
   "source": [
    "def clean_title(title):\n",
    "    return re.sub(r'\\(\\d{4}\\)', '', title).strip()\n",
    "movies[\"title\"] = movies[\"title\"].apply(clean_title)\n",
    "movies.head()"
   ],
   "id": "7e4681880f876937",
   "outputs": [
    {
     "data": {
      "text/plain": [
       "   movieId                        title  \\\n",
       "0        1                    Toy Story   \n",
       "1        2                      Jumanji   \n",
       "2        3             Grumpier Old Men   \n",
       "3        4            Waiting to Exhale   \n",
       "4        5  Father of the Bride Part II   \n",
       "\n",
       "                                        genres  \n",
       "0  Adventure|Animation|Children|Comedy|Fantasy  \n",
       "1                   Adventure|Children|Fantasy  \n",
       "2                               Comedy|Romance  \n",
       "3                         Comedy|Drama|Romance  \n",
       "4                                       Comedy  "
      ],
      "text/html": [
       "<div>\n",
       "<style scoped>\n",
       "    .dataframe tbody tr th:only-of-type {\n",
       "        vertical-align: middle;\n",
       "    }\n",
       "\n",
       "    .dataframe tbody tr th {\n",
       "        vertical-align: top;\n",
       "    }\n",
       "\n",
       "    .dataframe thead th {\n",
       "        text-align: right;\n",
       "    }\n",
       "</style>\n",
       "<table border=\"1\" class=\"dataframe\">\n",
       "  <thead>\n",
       "    <tr style=\"text-align: right;\">\n",
       "      <th></th>\n",
       "      <th>movieId</th>\n",
       "      <th>title</th>\n",
       "      <th>genres</th>\n",
       "    </tr>\n",
       "  </thead>\n",
       "  <tbody>\n",
       "    <tr>\n",
       "      <th>0</th>\n",
       "      <td>1</td>\n",
       "      <td>Toy Story</td>\n",
       "      <td>Adventure|Animation|Children|Comedy|Fantasy</td>\n",
       "    </tr>\n",
       "    <tr>\n",
       "      <th>1</th>\n",
       "      <td>2</td>\n",
       "      <td>Jumanji</td>\n",
       "      <td>Adventure|Children|Fantasy</td>\n",
       "    </tr>\n",
       "    <tr>\n",
       "      <th>2</th>\n",
       "      <td>3</td>\n",
       "      <td>Grumpier Old Men</td>\n",
       "      <td>Comedy|Romance</td>\n",
       "    </tr>\n",
       "    <tr>\n",
       "      <th>3</th>\n",
       "      <td>4</td>\n",
       "      <td>Waiting to Exhale</td>\n",
       "      <td>Comedy|Drama|Romance</td>\n",
       "    </tr>\n",
       "    <tr>\n",
       "      <th>4</th>\n",
       "      <td>5</td>\n",
       "      <td>Father of the Bride Part II</td>\n",
       "      <td>Comedy</td>\n",
       "    </tr>\n",
       "  </tbody>\n",
       "</table>\n",
       "</div>"
      ]
     },
     "execution_count": 49,
     "metadata": {},
     "output_type": "execute_result"
    }
   ],
   "execution_count": 49
  },
  {
   "metadata": {
    "ExecuteTime": {
     "end_time": "2024-05-18T04:38:46.428409Z",
     "start_time": "2024-05-18T04:38:46.395010Z"
    }
   },
   "cell_type": "code",
   "source": [
    "movies[\"genres\"] = movies[\"genres\"].apply(lambda x: x.replace(\"|\", \" \"))\n",
    "movies[\"combine\"] = movies[\"title\"] + \" \" + movies[\"genres\"]\n",
    "movies.head()"
   ],
   "id": "4e3760444485a52e",
   "outputs": [
    {
     "data": {
      "text/plain": [
       "   movieId                        title  \\\n",
       "0        1                    Toy Story   \n",
       "1        2                      Jumanji   \n",
       "2        3             Grumpier Old Men   \n",
       "3        4            Waiting to Exhale   \n",
       "4        5  Father of the Bride Part II   \n",
       "\n",
       "                                        genres  \\\n",
       "0  Adventure Animation Children Comedy Fantasy   \n",
       "1                   Adventure Children Fantasy   \n",
       "2                               Comedy Romance   \n",
       "3                         Comedy Drama Romance   \n",
       "4                                       Comedy   \n",
       "\n",
       "                                             combine  \n",
       "0  Toy Story Adventure Animation Children Comedy ...  \n",
       "1                 Jumanji Adventure Children Fantasy  \n",
       "2                    Grumpier Old Men Comedy Romance  \n",
       "3             Waiting to Exhale Comedy Drama Romance  \n",
       "4                 Father of the Bride Part II Comedy  "
      ],
      "text/html": [
       "<div>\n",
       "<style scoped>\n",
       "    .dataframe tbody tr th:only-of-type {\n",
       "        vertical-align: middle;\n",
       "    }\n",
       "\n",
       "    .dataframe tbody tr th {\n",
       "        vertical-align: top;\n",
       "    }\n",
       "\n",
       "    .dataframe thead th {\n",
       "        text-align: right;\n",
       "    }\n",
       "</style>\n",
       "<table border=\"1\" class=\"dataframe\">\n",
       "  <thead>\n",
       "    <tr style=\"text-align: right;\">\n",
       "      <th></th>\n",
       "      <th>movieId</th>\n",
       "      <th>title</th>\n",
       "      <th>genres</th>\n",
       "      <th>combine</th>\n",
       "    </tr>\n",
       "  </thead>\n",
       "  <tbody>\n",
       "    <tr>\n",
       "      <th>0</th>\n",
       "      <td>1</td>\n",
       "      <td>Toy Story</td>\n",
       "      <td>Adventure Animation Children Comedy Fantasy</td>\n",
       "      <td>Toy Story Adventure Animation Children Comedy ...</td>\n",
       "    </tr>\n",
       "    <tr>\n",
       "      <th>1</th>\n",
       "      <td>2</td>\n",
       "      <td>Jumanji</td>\n",
       "      <td>Adventure Children Fantasy</td>\n",
       "      <td>Jumanji Adventure Children Fantasy</td>\n",
       "    </tr>\n",
       "    <tr>\n",
       "      <th>2</th>\n",
       "      <td>3</td>\n",
       "      <td>Grumpier Old Men</td>\n",
       "      <td>Comedy Romance</td>\n",
       "      <td>Grumpier Old Men Comedy Romance</td>\n",
       "    </tr>\n",
       "    <tr>\n",
       "      <th>3</th>\n",
       "      <td>4</td>\n",
       "      <td>Waiting to Exhale</td>\n",
       "      <td>Comedy Drama Romance</td>\n",
       "      <td>Waiting to Exhale Comedy Drama Romance</td>\n",
       "    </tr>\n",
       "    <tr>\n",
       "      <th>4</th>\n",
       "      <td>5</td>\n",
       "      <td>Father of the Bride Part II</td>\n",
       "      <td>Comedy</td>\n",
       "      <td>Father of the Bride Part II Comedy</td>\n",
       "    </tr>\n",
       "  </tbody>\n",
       "</table>\n",
       "</div>"
      ]
     },
     "execution_count": 50,
     "metadata": {},
     "output_type": "execute_result"
    }
   ],
   "execution_count": 50
  },
  {
   "metadata": {
    "ExecuteTime": {
     "end_time": "2024-05-18T04:38:47.383997Z",
     "start_time": "2024-05-18T04:38:46.429414Z"
    }
   },
   "cell_type": "code",
   "source": [
    "vectorizer = TfidfVectorizer(ngram_range=(1, 2))\n",
    "tfidf = vectorizer.fit_transform(movies[\"combine\"])\n",
    "tfidf.shape"
   ],
   "id": "67331f1ff4bd8940",
   "outputs": [
    {
     "data": {
      "text/plain": [
       "(62423, 154860)"
      ]
     },
     "execution_count": 51,
     "metadata": {},
     "output_type": "execute_result"
    }
   ],
   "execution_count": 51
  },
  {
   "metadata": {
    "ExecuteTime": {
     "end_time": "2024-05-18T04:38:47.392046Z",
     "start_time": "2024-05-18T04:38:47.385002Z"
    }
   },
   "cell_type": "code",
   "source": [
    "title = \"Old Men\"\n",
    "title = clean_title(title)\n",
    "query_vector = vectorizer.transform([title])\n",
    "query_vector.shape"
   ],
   "id": "faac43775451dee7",
   "outputs": [
    {
     "data": {
      "text/plain": [
       "(1, 154860)"
      ]
     },
     "execution_count": 52,
     "metadata": {},
     "output_type": "execute_result"
    }
   ],
   "execution_count": 52
  },
  {
   "metadata": {
    "ExecuteTime": {
     "end_time": "2024-05-18T04:38:47.409700Z",
     "start_time": "2024-05-18T04:38:47.393051Z"
    }
   },
   "cell_type": "code",
   "source": [
    "cosine_sim = linear_kernel(query_vector, tfidf)\n",
    "cosine_sim = cosine_sim.flatten()\n",
    "\n",
    "related_movie_indices = cosine_sim.argsort()[:-6:-1]\n",
    "result = movies.iloc[related_movie_indices]\n",
    "result"
   ],
   "id": "8949d34455efb7de",
   "outputs": [
    {
     "data": {
      "text/plain": [
       "       movieId                       title          genres  \\\n",
       "3354      3450              Grumpy Old Men          Comedy   \n",
       "32828   141820            Old Men: Robbers          Comedy   \n",
       "2            3            Grumpier Old Men  Comedy Romance   \n",
       "11932    55820      No Country for Old Men     Crime Drama   \n",
       "47016   173637  Seven Old Men and One Girl          Comedy   \n",
       "\n",
       "                                  combine  \n",
       "3354                Grumpy Old Men Comedy  \n",
       "32828             Old Men: Robbers Comedy  \n",
       "2         Grumpier Old Men Comedy Romance  \n",
       "11932  No Country for Old Men Crime Drama  \n",
       "47016   Seven Old Men and One Girl Comedy  "
      ],
      "text/html": [
       "<div>\n",
       "<style scoped>\n",
       "    .dataframe tbody tr th:only-of-type {\n",
       "        vertical-align: middle;\n",
       "    }\n",
       "\n",
       "    .dataframe tbody tr th {\n",
       "        vertical-align: top;\n",
       "    }\n",
       "\n",
       "    .dataframe thead th {\n",
       "        text-align: right;\n",
       "    }\n",
       "</style>\n",
       "<table border=\"1\" class=\"dataframe\">\n",
       "  <thead>\n",
       "    <tr style=\"text-align: right;\">\n",
       "      <th></th>\n",
       "      <th>movieId</th>\n",
       "      <th>title</th>\n",
       "      <th>genres</th>\n",
       "      <th>combine</th>\n",
       "    </tr>\n",
       "  </thead>\n",
       "  <tbody>\n",
       "    <tr>\n",
       "      <th>3354</th>\n",
       "      <td>3450</td>\n",
       "      <td>Grumpy Old Men</td>\n",
       "      <td>Comedy</td>\n",
       "      <td>Grumpy Old Men Comedy</td>\n",
       "    </tr>\n",
       "    <tr>\n",
       "      <th>32828</th>\n",
       "      <td>141820</td>\n",
       "      <td>Old Men: Robbers</td>\n",
       "      <td>Comedy</td>\n",
       "      <td>Old Men: Robbers Comedy</td>\n",
       "    </tr>\n",
       "    <tr>\n",
       "      <th>2</th>\n",
       "      <td>3</td>\n",
       "      <td>Grumpier Old Men</td>\n",
       "      <td>Comedy Romance</td>\n",
       "      <td>Grumpier Old Men Comedy Romance</td>\n",
       "    </tr>\n",
       "    <tr>\n",
       "      <th>11932</th>\n",
       "      <td>55820</td>\n",
       "      <td>No Country for Old Men</td>\n",
       "      <td>Crime Drama</td>\n",
       "      <td>No Country for Old Men Crime Drama</td>\n",
       "    </tr>\n",
       "    <tr>\n",
       "      <th>47016</th>\n",
       "      <td>173637</td>\n",
       "      <td>Seven Old Men and One Girl</td>\n",
       "      <td>Comedy</td>\n",
       "      <td>Seven Old Men and One Girl Comedy</td>\n",
       "    </tr>\n",
       "  </tbody>\n",
       "</table>\n",
       "</div>"
      ]
     },
     "execution_count": 53,
     "metadata": {},
     "output_type": "execute_result"
    }
   ],
   "execution_count": 53
  },
  {
   "metadata": {
    "ExecuteTime": {
     "end_time": "2024-05-18T04:38:47.412829Z",
     "start_time": "2024-05-18T04:38:47.410706Z"
    }
   },
   "cell_type": "code",
   "source": "",
   "id": "70f7dc69e704a53",
   "outputs": [],
   "execution_count": 53
  }
 ],
 "metadata": {
  "kernelspec": {
   "display_name": "Python 3",
   "language": "python",
   "name": "python3"
  },
  "language_info": {
   "codemirror_mode": {
    "name": "ipython",
    "version": 2
   },
   "file_extension": ".py",
   "mimetype": "text/x-python",
   "name": "python",
   "nbconvert_exporter": "python",
   "pygments_lexer": "ipython2",
   "version": "2.7.6"
  }
 },
 "nbformat": 4,
 "nbformat_minor": 5
}
